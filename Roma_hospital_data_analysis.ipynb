{
 "cells": [
  {
   "cell_type": "code",
   "execution_count": 1,
   "metadata": {},
   "outputs": [],
   "source": [
    "import pandas as pd\n",
    "import seaborn as sns\n",
    "import numpy as np\n",
    "import matplotlib.pyplot as plt"
   ]
  },
  {
   "cell_type": "code",
   "execution_count": null,
   "metadata": {},
   "outputs": [],
   "source": []
  },
  {
   "cell_type": "code",
   "execution_count": 2,
   "metadata": {},
   "outputs": [
    {
     "data": {
      "text/plain": [
       "(160989, 29)"
      ]
     },
     "execution_count": 2,
     "metadata": {},
     "output_type": "execute_result"
    }
   ],
   "source": [
    "df = pd.read_csv(\"pronto_soccorso.csv\", delimiter = \"\\t\")\n",
    "df.shape"
   ]
  },
  {
   "cell_type": "code",
   "execution_count": 3,
   "metadata": {},
   "outputs": [
    {
     "data": {
      "text/html": [
       "<div>\n",
       "<style scoped>\n",
       "    .dataframe tbody tr th:only-of-type {\n",
       "        vertical-align: middle;\n",
       "    }\n",
       "\n",
       "    .dataframe tbody tr th {\n",
       "        vertical-align: top;\n",
       "    }\n",
       "\n",
       "    .dataframe thead th {\n",
       "        text-align: right;\n",
       "    }\n",
       "</style>\n",
       "<table border=\"1\" class=\"dataframe\">\n",
       "  <thead>\n",
       "    <tr style=\"text-align: right;\">\n",
       "      <th></th>\n",
       "      <th>Unnamed: 0</th>\n",
       "      <th>ASL</th>\n",
       "      <th>BIANCHI_ATT</th>\n",
       "      <th>BIANCHI_OB</th>\n",
       "      <th>BIANCHI_TRATT</th>\n",
       "      <th>CODICE</th>\n",
       "      <th>COMUNE</th>\n",
       "      <th>DATA</th>\n",
       "      <th>GIALLI_ATT</th>\n",
       "      <th>GIALLI_OB</th>\n",
       "      <th>...</th>\n",
       "      <th>STATO_IN_PS2</th>\n",
       "      <th>TIPO</th>\n",
       "      <th>TOT_ATT</th>\n",
       "      <th>TOT_OB</th>\n",
       "      <th>TOT_RT</th>\n",
       "      <th>TOT_TRATT</th>\n",
       "      <th>TUTTI</th>\n",
       "      <th>VERDI_ATT</th>\n",
       "      <th>VERDI_OB</th>\n",
       "      <th>VERDI_TRATT</th>\n",
       "    </tr>\n",
       "  </thead>\n",
       "  <tbody>\n",
       "    <tr>\n",
       "      <th>0</th>\n",
       "      <td>0</td>\n",
       "      <td>RM6</td>\n",
       "      <td>1</td>\n",
       "      <td>0</td>\n",
       "      <td>0</td>\n",
       "      <td>4300</td>\n",
       "      <td>Anzio</td>\n",
       "      <td>2019-04-26T11:29:00</td>\n",
       "      <td>0</td>\n",
       "      <td>1</td>\n",
       "      <td>...</td>\n",
       "      <td>OSSERVAZIONE_BREVE</td>\n",
       "      <td>DEA I</td>\n",
       "      <td>8</td>\n",
       "      <td>3</td>\n",
       "      <td>16</td>\n",
       "      <td>12</td>\n",
       "      <td>39</td>\n",
       "      <td>7</td>\n",
       "      <td>1</td>\n",
       "      <td>5</td>\n",
       "    </tr>\n",
       "    <tr>\n",
       "      <th>1</th>\n",
       "      <td>1</td>\n",
       "      <td>RM2</td>\n",
       "      <td>4</td>\n",
       "      <td>0</td>\n",
       "      <td>8</td>\n",
       "      <td>92000</td>\n",
       "      <td>Roma</td>\n",
       "      <td>2019-04-26T11:28:00</td>\n",
       "      <td>0</td>\n",
       "      <td>15</td>\n",
       "      <td>...</td>\n",
       "      <td>OSSERVAZIONE_BREVE</td>\n",
       "      <td>DEA I</td>\n",
       "      <td>12</td>\n",
       "      <td>28</td>\n",
       "      <td>40</td>\n",
       "      <td>44</td>\n",
       "      <td>124</td>\n",
       "      <td>6</td>\n",
       "      <td>12</td>\n",
       "      <td>23</td>\n",
       "    </tr>\n",
       "    <tr>\n",
       "      <th>2</th>\n",
       "      <td>2</td>\n",
       "      <td>RM1</td>\n",
       "      <td>1</td>\n",
       "      <td>0</td>\n",
       "      <td>0</td>\n",
       "      <td>91900</td>\n",
       "      <td>Roma</td>\n",
       "      <td>2019-04-26T11:28:00</td>\n",
       "      <td>0</td>\n",
       "      <td>3</td>\n",
       "      <td>...</td>\n",
       "      <td>OSSERVAZIONE_BREVE</td>\n",
       "      <td>DEA I</td>\n",
       "      <td>5</td>\n",
       "      <td>4</td>\n",
       "      <td>43</td>\n",
       "      <td>30</td>\n",
       "      <td>82</td>\n",
       "      <td>4</td>\n",
       "      <td>0</td>\n",
       "      <td>11</td>\n",
       "    </tr>\n",
       "    <tr>\n",
       "      <th>3</th>\n",
       "      <td>3</td>\n",
       "      <td>RM1</td>\n",
       "      <td>2</td>\n",
       "      <td>0</td>\n",
       "      <td>0</td>\n",
       "      <td>90600</td>\n",
       "      <td>Roma</td>\n",
       "      <td>2019-04-26T11:28:00</td>\n",
       "      <td>9</td>\n",
       "      <td>0</td>\n",
       "      <td>...</td>\n",
       "      <td>OSSERVAZIONE_BREVE</td>\n",
       "      <td>DEA II</td>\n",
       "      <td>13</td>\n",
       "      <td>0</td>\n",
       "      <td>44</td>\n",
       "      <td>48</td>\n",
       "      <td>105</td>\n",
       "      <td>2</td>\n",
       "      <td>0</td>\n",
       "      <td>9</td>\n",
       "    </tr>\n",
       "    <tr>\n",
       "      <th>4</th>\n",
       "      <td>4</td>\n",
       "      <td>RM1</td>\n",
       "      <td>0</td>\n",
       "      <td>0</td>\n",
       "      <td>0</td>\n",
       "      <td>90501</td>\n",
       "      <td>Roma</td>\n",
       "      <td>2019-04-26T11:28:00</td>\n",
       "      <td>2</td>\n",
       "      <td>13</td>\n",
       "      <td>...</td>\n",
       "      <td>OSSERVAZIONE_BREVE</td>\n",
       "      <td>DEA II</td>\n",
       "      <td>8</td>\n",
       "      <td>26</td>\n",
       "      <td>55</td>\n",
       "      <td>37</td>\n",
       "      <td>126</td>\n",
       "      <td>6</td>\n",
       "      <td>9</td>\n",
       "      <td>18</td>\n",
       "    </tr>\n",
       "  </tbody>\n",
       "</table>\n",
       "<p>5 rows × 29 columns</p>\n",
       "</div>"
      ],
      "text/plain": [
       "   Unnamed: 0  ASL  BIANCHI_ATT  BIANCHI_OB  BIANCHI_TRATT  CODICE COMUNE  \\\n",
       "0           0  RM6            1           0              0    4300  Anzio   \n",
       "1           1  RM2            4           0              8   92000   Roma   \n",
       "2           2  RM1            1           0              0   91900   Roma   \n",
       "3           3  RM1            2           0              0   90600   Roma   \n",
       "4           4  RM1            0           0              0   90501   Roma   \n",
       "\n",
       "                  DATA  GIALLI_ATT  GIALLI_OB     ...            STATO_IN_PS2  \\\n",
       "0  2019-04-26T11:29:00           0          1     ...      OSSERVAZIONE_BREVE   \n",
       "1  2019-04-26T11:28:00           0         15     ...      OSSERVAZIONE_BREVE   \n",
       "2  2019-04-26T11:28:00           0          3     ...      OSSERVAZIONE_BREVE   \n",
       "3  2019-04-26T11:28:00           9          0     ...      OSSERVAZIONE_BREVE   \n",
       "4  2019-04-26T11:28:00           2         13     ...      OSSERVAZIONE_BREVE   \n",
       "\n",
       "     TIPO  TOT_ATT  TOT_OB  TOT_RT  TOT_TRATT  TUTTI VERDI_ATT VERDI_OB  \\\n",
       "0   DEA I        8       3      16         12     39         7        1   \n",
       "1   DEA I       12      28      40         44    124         6       12   \n",
       "2   DEA I        5       4      43         30     82         4        0   \n",
       "3  DEA II       13       0      44         48    105         2        0   \n",
       "4  DEA II        8      26      55         37    126         6        9   \n",
       "\n",
       "  VERDI_TRATT  \n",
       "0           5  \n",
       "1          23  \n",
       "2          11  \n",
       "3           9  \n",
       "4          18  \n",
       "\n",
       "[5 rows x 29 columns]"
      ]
     },
     "execution_count": 3,
     "metadata": {},
     "output_type": "execute_result"
    }
   ],
   "source": [
    "df.head()"
   ]
  },
  {
   "cell_type": "code",
   "execution_count": 4,
   "metadata": {},
   "outputs": [],
   "source": [
    "df[\"DATA\"] = df['DATA'].apply(pd.to_datetime)"
   ]
  },
  {
   "cell_type": "code",
   "execution_count": 5,
   "metadata": {},
   "outputs": [],
   "source": [
    "from calendar import weekday, day_name\n",
    "import calendar\n",
    "\n",
    "def get_day_of_month(dt):\n",
    "    return dt.day\n",
    "\n",
    "df['Day'] = df['DATA'].apply(get_day_of_month)\n",
    "\n",
    "def get_weekday(dt):\n",
    "    #return calendar.day_abbr[dt.weekday()]\n",
    "    return dt.weekday()\n",
    "\n",
    "df[\"Weekday\"] = df[\"DATA\"].apply(get_weekday)\n",
    "\n",
    "def get_hour(dt):\n",
    "    return dt.hour\n",
    "\n",
    "df[\"hour\"] = df[\"DATA\"].apply(get_hour)\n",
    "\n",
    "#df.tail(5)"
   ]
  },
  {
   "cell_type": "code",
   "execution_count": 6,
   "metadata": {},
   "outputs": [
    {
     "data": {
      "text/plain": [
       "Day\n",
       "5     114894\n",
       "14       315\n",
       "26      4603\n",
       "27      9692\n",
       "28     10388\n",
       "29     10507\n",
       "30     10590\n",
       "dtype: int64"
      ]
     },
     "execution_count": 6,
     "metadata": {},
     "output_type": "execute_result"
    }
   ],
   "source": [
    "def count_rows(rows):\n",
    "    return len(rows)\n",
    "\n",
    "by_date = df.groupby('Day').apply(count_rows)\n",
    "by_date"
   ]
  },
  {
   "cell_type": "code",
   "execution_count": 34,
   "metadata": {},
   "outputs": [],
   "source": [
    "table_b = pd.pivot_table(data = df, values=['BIANCHI_ATT','BIANCHI_OB', 'BIANCHI_TRATT'] ,index= [\"Weekday\"] , aggfunc= np.sum)\n",
    "table_r = pd.pivot_table(data = df, values=['ROSSI_ATT','ROSSI_OB', 'ROSSI_TRATT'] ,index= [\"Weekday\"] , aggfunc= np.sum)\n",
    "table_v = pd.pivot_table(data = df, values=['VERDI_ATT','VERDI_OB', 'VERDI_TRATT'] ,index= [\"Weekday\"] , aggfunc= np.sum)\n",
    "table_g = pd.pivot_table(data = df, values=['GIALLI_ATT','GIALLI_OB', 'GIALLI_TRATT'] ,index= [\"Weekday\"] , aggfunc= np.sum)\n",
    "table_T = pd.pivot_table(data = df, values=['TOT_ATT','TOT_OB', 'TOT_TRATT' , 'TUTTI'] ,index= [\"Weekday\"] , aggfunc= np.sum)\n",
    "table_mixATT = pd.pivot_table(data = df, values=['BIANCHI_ATT','ROSSI_ATT', 'GIALLI_ATT', 'VERDI_ATT' ] ,index= [\"Weekday\"] , aggfunc= np.sum)\n",
    "table_mixOB = pd.pivot_table(data = df, values=['BIANCHI_OB','ROSSI_OB', 'GIALLI_OB' , 'VERDI_OB'] ,index= [\"Weekday\"] , aggfunc= np.sum)\n",
    "table_mixTRATT = pd.pivot_table(data = df, values=['BIANCHI_TRATT','ROSSI_TRATT', 'GIALLI_TRATT', 'VERDI_TRATT' ] ,index= [\"Weekday\"] , aggfunc= np.sum)\n",
    "\n"
   ]
  },
  {
   "cell_type": "code",
   "execution_count": 81,
   "metadata": {},
   "outputs": [
    {
     "data": {
      "text/html": [
       "<div>\n",
       "<style scoped>\n",
       "    .dataframe tbody tr th:only-of-type {\n",
       "        vertical-align: middle;\n",
       "    }\n",
       "\n",
       "    .dataframe tbody tr th {\n",
       "        vertical-align: top;\n",
       "    }\n",
       "\n",
       "    .dataframe thead th {\n",
       "        text-align: right;\n",
       "    }\n",
       "</style>\n",
       "<table border=\"1\" class=\"dataframe\">\n",
       "  <thead>\n",
       "    <tr style=\"text-align: right;\">\n",
       "      <th></th>\n",
       "      <th>TOT_ATT</th>\n",
       "      <th>TOT_OB</th>\n",
       "      <th>TOT_TRATT</th>\n",
       "      <th>TUTTI</th>\n",
       "    </tr>\n",
       "    <tr>\n",
       "      <th>Weekday</th>\n",
       "      <th></th>\n",
       "      <th></th>\n",
       "      <th></th>\n",
       "      <th></th>\n",
       "    </tr>\n",
       "  </thead>\n",
       "  <tbody>\n",
       "    <tr>\n",
       "      <th>0</th>\n",
       "      <td>119740</td>\n",
       "      <td>107684</td>\n",
       "      <td>311503</td>\n",
       "      <td>766924</td>\n",
       "    </tr>\n",
       "    <tr>\n",
       "      <th>1</th>\n",
       "      <td>246714</td>\n",
       "      <td>210060</td>\n",
       "      <td>623118</td>\n",
       "      <td>1485464</td>\n",
       "    </tr>\n",
       "    <tr>\n",
       "      <th>2</th>\n",
       "      <td>60572</td>\n",
       "      <td>48723</td>\n",
       "      <td>145053</td>\n",
       "      <td>361747</td>\n",
       "    </tr>\n",
       "    <tr>\n",
       "      <th>3</th>\n",
       "      <td>68504</td>\n",
       "      <td>79612</td>\n",
       "      <td>204560</td>\n",
       "      <td>500874</td>\n",
       "    </tr>\n",
       "    <tr>\n",
       "      <th>4</th>\n",
       "      <td>160811</td>\n",
       "      <td>118039</td>\n",
       "      <td>387653</td>\n",
       "      <td>910878</td>\n",
       "    </tr>\n",
       "    <tr>\n",
       "      <th>5</th>\n",
       "      <td>163026</td>\n",
       "      <td>151558</td>\n",
       "      <td>434084</td>\n",
       "      <td>1037437</td>\n",
       "    </tr>\n",
       "    <tr>\n",
       "      <th>6</th>\n",
       "      <td>95815</td>\n",
       "      <td>100593</td>\n",
       "      <td>261177</td>\n",
       "      <td>658217</td>\n",
       "    </tr>\n",
       "  </tbody>\n",
       "</table>\n",
       "</div>"
      ],
      "text/plain": [
       "         TOT_ATT  TOT_OB  TOT_TRATT    TUTTI\n",
       "Weekday                                     \n",
       "0         119740  107684     311503   766924\n",
       "1         246714  210060     623118  1485464\n",
       "2          60572   48723     145053   361747\n",
       "3          68504   79612     204560   500874\n",
       "4         160811  118039     387653   910878\n",
       "5         163026  151558     434084  1037437\n",
       "6          95815  100593     261177   658217"
      ]
     },
     "execution_count": 81,
     "metadata": {},
     "output_type": "execute_result"
    }
   ],
   "source": [
    "sum_b = table_b.sum(axis=1)\n",
    "sum_r = table_r.sum(axis=1)\n",
    "sum_g = table_g.sum(axis=1)\n",
    "sum_v = table_v.sum(axis=1)\n",
    "sum_T = table_T['TUTTI']\n",
    "table_T"
   ]
  },
  {
   "cell_type": "code",
   "execution_count": 75,
   "metadata": {},
   "outputs": [
    {
     "data": {
      "text/html": [
       "<div>\n",
       "<style scoped>\n",
       "    .dataframe tbody tr th:only-of-type {\n",
       "        vertical-align: middle;\n",
       "    }\n",
       "\n",
       "    .dataframe tbody tr th {\n",
       "        vertical-align: top;\n",
       "    }\n",
       "\n",
       "    .dataframe thead th {\n",
       "        text-align: right;\n",
       "    }\n",
       "</style>\n",
       "<table border=\"1\" class=\"dataframe\">\n",
       "  <thead>\n",
       "    <tr style=\"text-align: right;\">\n",
       "      <th></th>\n",
       "      <th>0</th>\n",
       "      <th>1</th>\n",
       "      <th>2</th>\n",
       "      <th>3</th>\n",
       "      <th>TUTTI</th>\n",
       "    </tr>\n",
       "    <tr>\n",
       "      <th>Weekday</th>\n",
       "      <th></th>\n",
       "      <th></th>\n",
       "      <th></th>\n",
       "      <th></th>\n",
       "      <th></th>\n",
       "    </tr>\n",
       "  </thead>\n",
       "  <tbody>\n",
       "    <tr>\n",
       "      <th>0</th>\n",
       "      <td>13570</td>\n",
       "      <td>35334</td>\n",
       "      <td>225915</td>\n",
       "      <td>258633</td>\n",
       "      <td>766924</td>\n",
       "    </tr>\n",
       "    <tr>\n",
       "      <th>1</th>\n",
       "      <td>28001</td>\n",
       "      <td>63716</td>\n",
       "      <td>465719</td>\n",
       "      <td>511081</td>\n",
       "      <td>1485464</td>\n",
       "    </tr>\n",
       "    <tr>\n",
       "      <th>2</th>\n",
       "      <td>5957</td>\n",
       "      <td>14870</td>\n",
       "      <td>110087</td>\n",
       "      <td>121119</td>\n",
       "      <td>361747</td>\n",
       "    </tr>\n",
       "    <tr>\n",
       "      <th>3</th>\n",
       "      <td>8545</td>\n",
       "      <td>20574</td>\n",
       "      <td>151143</td>\n",
       "      <td>169115</td>\n",
       "      <td>500874</td>\n",
       "    </tr>\n",
       "    <tr>\n",
       "      <th>4</th>\n",
       "      <td>15973</td>\n",
       "      <td>38127</td>\n",
       "      <td>283488</td>\n",
       "      <td>322840</td>\n",
       "      <td>910878</td>\n",
       "    </tr>\n",
       "    <tr>\n",
       "      <th>5</th>\n",
       "      <td>18513</td>\n",
       "      <td>45666</td>\n",
       "      <td>317137</td>\n",
       "      <td>360609</td>\n",
       "      <td>1037437</td>\n",
       "    </tr>\n",
       "    <tr>\n",
       "      <th>6</th>\n",
       "      <td>11858</td>\n",
       "      <td>31840</td>\n",
       "      <td>192220</td>\n",
       "      <td>217430</td>\n",
       "      <td>658217</td>\n",
       "    </tr>\n",
       "  </tbody>\n",
       "</table>\n",
       "</div>"
      ],
      "text/plain": [
       "             0      1       2       3    TUTTI\n",
       "Weekday                                       \n",
       "0        13570  35334  225915  258633   766924\n",
       "1        28001  63716  465719  511081  1485464\n",
       "2         5957  14870  110087  121119   361747\n",
       "3         8545  20574  151143  169115   500874\n",
       "4        15973  38127  283488  322840   910878\n",
       "5        18513  45666  317137  360609  1037437\n",
       "6        11858  31840  192220  217430   658217"
      ]
     },
     "execution_count": 75,
     "metadata": {},
     "output_type": "execute_result"
    }
   ],
   "source": [
    "total_n = pd.concat([sum_b, sum_r, sum_g, sum_v, sum_T], axis=1)\n",
    "total_n"
   ]
  },
  {
   "cell_type": "code",
   "execution_count": 74,
   "metadata": {},
   "outputs": [
    {
     "data": {
      "text/plain": [
       "''"
      ]
     },
     "execution_count": 74,
     "metadata": {},
     "output_type": "execute_result"
    },
    {
     "data": {
      "text/plain": [
       "<Figure size 1080x504 with 0 Axes>"
      ]
     },
     "metadata": {},
     "output_type": "display_data"
    },
    {
     "data": {
      "image/png": "[encoded data removed]",
      "text/plain": [
       "<Figure size 432x288 with 1 Axes>"
      ]
     },
     "metadata": {},
     "output_type": "display_data"
    }
   ],
   "source": [
    "plt.figure(figsize=(15,7))\n",
    "total_n.plot(kind='bar', color = ['grey', 'red', 'yellow', 'green', 'black'], legend=False)\n",
    ";"
   ]
  },
  {
   "cell_type": "code",
   "execution_count": 11,
   "metadata": {
    "scrolled": true
   },
   "outputs": [],
   "source": [
    "weekdays = ['Mon', 'Tue', 'Wed', 'Thu', 'Fri', 'Sat', 'Sun']"
   ]
  },
  {
   "cell_type": "code",
   "execution_count": 12,
   "metadata": {},
   "outputs": [],
   "source": [
    "table_T['Weekdays'] = weekdays\n",
    "table_r['Weekdays'] = weekdays\n",
    "table_b['Weekdays'] = weekdays\n",
    "table_v['Weekdays'] = weekdays\n",
    "table_g['Weekdays'] = weekdays\n",
    "table_mixTRATT['Weekdays'] = weekdays\n",
    "table_mixOB['Weekdays'] = weekdays\n",
    "table_mixATT['Weekdays'] = weekdays"
   ]
  },
  {
   "cell_type": "code",
   "execution_count": 13,
   "metadata": {
    "scrolled": false
   },
   "outputs": [],
   "source": [
    "table_T.set_index('Weekdays', inplace=True)\n",
    "table_r.set_index('Weekdays', inplace=True)\n",
    "table_b.set_index('Weekdays', inplace=True)\n",
    "table_v.set_index('Weekdays', inplace=True)\n",
    "table_g.set_index('Weekdays', inplace=True)\n",
    "table_mixTRATT.set_index('Weekdays', inplace=True)\n",
    "table_mixOB.set_index('Weekdays', inplace=True)\n",
    "table_mixATT.set_index('Weekdays', inplace=True)"
   ]
  },
  {
   "cell_type": "code",
   "execution_count": 28,
   "metadata": {
    "scrolled": false
   },
   "outputs": [
    {
     "data": {
      "text/plain": [
       "<Figure size 648x432 with 0 Axes>"
      ]
     },
     "metadata": {},
     "output_type": "display_data"
    },
    {
     "data": {
      "image/png": "[encoded data removed]",
      "text/plain": [
       "<Figure size 432x288 with 1 Axes>"
      ]
     },
     "metadata": {},
     "output_type": "display_data"
    },
    {
     "data": {
      "image/png": "[encoded data removed]",
      "text/plain": [
       "<Figure size 432x288 with 1 Axes>"
      ]
     },
     "metadata": {},
     "output_type": "display_data"
    },
    {
     "data": {
      "image/png": "[encoded data removed]",
      "text/plain": [
       "<Figure size 432x288 with 1 Axes>"
      ]
     },
     "metadata": {},
     "output_type": "display_data"
    },
    {
     "data": {
      "image/png": "[encoded data removed]",
      "text/plain": [
       "<Figure size 432x288 with 1 Axes>"
      ]
     },
     "metadata": {},
     "output_type": "display_data"
    },
    {
     "data": {
      "image/png": "[encoded data removed]",
      "text/plain": [
       "<Figure size 432x288 with 1 Axes>"
      ]
     },
     "metadata": {},
     "output_type": "display_data"
    },
    {
     "data": {
      "image/png": "[encoded data removed]",
      "text/plain": [
       "<Figure size 432x288 with 1 Axes>"
      ]
     },
     "metadata": {},
     "output_type": "display_data"
    },
    {
     "data": {
      "image/png": "[encoded data removed]",
      "text/plain": [
       "<Figure size 432x288 with 1 Axes>"
      ]
     },
     "metadata": {},
     "output_type": "display_data"
    },
    {
     "data": {
      "image/png": "[encoded data removed]",
      "text/plain": [
       "<Figure size 432x288 with 1 Axes>"
      ]
     },
     "metadata": {},
     "output_type": "display_data"
    }
   ],
   "source": [
    "plt.figure(figsize=(9,6))\n",
    "table_T.plot.bar(by = 'Weekdays')\n",
    "table_v.plot.bar(by = 'Weekdays')\n",
    "table_g.plot.bar(by = 'Weekdays')\n",
    "table_r.plot.bar(by = 'Weekdays')\n",
    "table_b.plot.bar(by = 'Weekdays')\n",
    "table_mixATT.plot.bar(by = 'Weekdays' ,color = ['silver' , 'gold' , 'r', 'green'])\n",
    "table_mixOB.plot.bar(by = 'Weekdays' ,color = ['silver' , 'gold' , 'r', 'green'])\n",
    "table_mixTRATT.plot.bar(by = 'Weekdays', color = ['silver' , 'gold' , 'r', 'green'])\n",
    "plt.show( )"
   ]
  },
  {
   "cell_type": "code",
   "execution_count": 10,
   "metadata": {
    "scrolled": false
   },
   "outputs": [
    {
     "data": {
      "image/png": "[encoded data removed]",
      "text/plain": [
       "<Figure size 432x288 with 1 Axes>"
      ]
     },
     "metadata": {},
     "output_type": "display_data"
    },
    {
     "data": {
      "image/png": "[encoded data removed]",
      "text/plain": [
       "<Figure size 432x288 with 1 Axes>"
      ]
     },
     "metadata": {},
     "output_type": "display_data"
    },
    {
     "data": {
      "image/png": "[encoded data removed]",
      "text/plain": [
       "<Figure size 432x288 with 1 Axes>"
      ]
     },
     "metadata": {},
     "output_type": "display_data"
    },
    {
     "data": {
      "image/png": "[encoded data removed]",
      "text/plain": [
       "<Figure size 432x288 with 1 Axes>"
      ]
     },
     "metadata": {},
     "output_type": "display_data"
    },
    {
     "data": {
      "image/png": "[encoded data removed]",
      "text/plain": [
       "<Figure size 432x288 with 1 Axes>"
      ]
     },
     "metadata": {},
     "output_type": "display_data"
    },
    {
     "data": {
      "image/png": "[encoded data removed]",
      "text/plain": [
       "<Figure size 432x288 with 1 Axes>"
      ]
     },
     "metadata": {},
     "output_type": "display_data"
    },
    {
     "data": {
      "image/png": "[encoded data removed]",
      "text/plain": [
       "<Figure size 432x288 with 1 Axes>"
      ]
     },
     "metadata": {},
     "output_type": "display_data"
    },
    {
     "data": {
      "image/png": "[encoded data removed]",
      "text/plain": [
       "<Figure size 432x288 with 1 Axes>"
      ]
     },
     "metadata": {},
     "output_type": "display_data"
    }
   ],
   "source": [
    "table_T.plot.box()\n",
    "table_r.plot.box()\n",
    "table_b.plot.box()\n",
    "table_v.plot.box()\n",
    "table_g.plot.box()\n",
    "table_mixTRATT.plot.box()\n",
    "table_mixOB.plot.box()\n",
    "table_mixATT.plot.box()\n",
    "plt.show()"
   ]
  },
  {
   "cell_type": "code",
   "execution_count": 14,
   "metadata": {},
   "outputs": [
    {
     "data": {
      "text/html": [
       "<div>\n",
       "<style scoped>\n",
       "    .dataframe tbody tr th:only-of-type {\n",
       "        vertical-align: middle;\n",
       "    }\n",
       "\n",
       "    .dataframe tbody tr th {\n",
       "        vertical-align: top;\n",
       "    }\n",
       "\n",
       "    .dataframe thead th {\n",
       "        text-align: right;\n",
       "    }\n",
       "</style>\n",
       "<table border=\"1\" class=\"dataframe\">\n",
       "  <thead>\n",
       "    <tr style=\"text-align: right;\">\n",
       "      <th></th>\n",
       "      <th>ROSSI_ATT</th>\n",
       "      <th>ROSSI_OB</th>\n",
       "      <th>ROSSI_TRATT</th>\n",
       "    </tr>\n",
       "    <tr>\n",
       "      <th>Weekdays</th>\n",
       "      <th></th>\n",
       "      <th></th>\n",
       "      <th></th>\n",
       "    </tr>\n",
       "  </thead>\n",
       "  <tbody>\n",
       "    <tr>\n",
       "      <th>Mon</th>\n",
       "      <td>275</td>\n",
       "      <td>13458</td>\n",
       "      <td>21601</td>\n",
       "    </tr>\n",
       "    <tr>\n",
       "      <th>Tue</th>\n",
       "      <td>600</td>\n",
       "      <td>19648</td>\n",
       "      <td>43468</td>\n",
       "    </tr>\n",
       "    <tr>\n",
       "      <th>Wed</th>\n",
       "      <td>124</td>\n",
       "      <td>4547</td>\n",
       "      <td>10199</td>\n",
       "    </tr>\n",
       "    <tr>\n",
       "      <th>Thu</th>\n",
       "      <td>153</td>\n",
       "      <td>7669</td>\n",
       "      <td>12752</td>\n",
       "    </tr>\n",
       "    <tr>\n",
       "      <th>Fri</th>\n",
       "      <td>349</td>\n",
       "      <td>11414</td>\n",
       "      <td>26364</td>\n",
       "    </tr>\n",
       "    <tr>\n",
       "      <th>Sat</th>\n",
       "      <td>384</td>\n",
       "      <td>15326</td>\n",
       "      <td>29956</td>\n",
       "    </tr>\n",
       "    <tr>\n",
       "      <th>Sun</th>\n",
       "      <td>261</td>\n",
       "      <td>9375</td>\n",
       "      <td>22204</td>\n",
       "    </tr>\n",
       "  </tbody>\n",
       "</table>\n",
       "</div>"
      ],
      "text/plain": [
       "          ROSSI_ATT  ROSSI_OB  ROSSI_TRATT\n",
       "Weekdays                                  \n",
       "Mon             275     13458        21601\n",
       "Tue             600     19648        43468\n",
       "Wed             124      4547        10199\n",
       "Thu             153      7669        12752\n",
       "Fri             349     11414        26364\n",
       "Sat             384     15326        29956\n",
       "Sun             261      9375        22204"
      ]
     },
     "execution_count": 14,
     "metadata": {},
     "output_type": "execute_result"
    }
   ],
   "source": [
    "table_r"
   ]
  },
  {
   "cell_type": "code",
   "execution_count": 15,
   "metadata": {},
   "outputs": [
    {
     "data": {
      "image/png": "[encoded data removed]",
      "text/plain": [
       "<Figure size 864x360 with 1 Axes>"
      ]
     },
     "metadata": {},
     "output_type": "display_data"
    }
   ],
   "source": [
    "plt.figure(figsize=(12,5))\n",
    "sns.set_context(\"paper\")\n",
    "sns.boxplot(x = 'ASL', y = 'TUTTI' , data = df )\n",
    "plt.show()"
   ]
  },
  {
   "cell_type": "code",
   "execution_count": 29,
   "metadata": {},
   "outputs": [
    {
     "data": {
      "image/png": "[encoded data removed]",
      "text/plain": [
       "<Figure size 432x288 with 1 Axes>"
      ]
     },
     "metadata": {},
     "output_type": "display_data"
    }
   ],
   "source": [
    "df.groupby('ASL')['TUTTI'].sum().plot(kind= 'bar')\n",
    "plt.show()"
   ]
  },
  {
   "cell_type": "code",
   "execution_count": 17,
   "metadata": {},
   "outputs": [
    {
     "data": {
      "image/png": "[encoded data removed]",
      "text/plain": [
       "<Figure size 432x288 with 1 Axes>"
      ]
     },
     "metadata": {},
     "output_type": "display_data"
    },
    {
     "data": {
      "image/png": "[encoded data removed]",
      "text/plain": [
       "<Figure size 432x288 with 1 Axes>"
      ]
     },
     "metadata": {},
     "output_type": "display_data"
    },
    {
     "data": {
      "image/png": "[encoded data removed]",
      "text/plain": [
       "<Figure size 432x288 with 1 Axes>"
      ]
     },
     "metadata": {},
     "output_type": "display_data"
    },
    {
     "data": {
      "image/png": "[encoded data removed]",
      "text/plain": [
       "<Figure size 432x288 with 1 Axes>"
      ]
     },
     "metadata": {},
     "output_type": "display_data"
    }
   ],
   "source": [
    "#df['TIPO']\n",
    "df.groupby('TIPO')[['BIANCHI_ATT', 'GIALLI_ATT' , 'ROSSI_ATT' ,'VERDI_ATT' ]].sum().plot(kind= 'bar')\n",
    "df.groupby('TIPO')[['BIANCHI_TRATT', 'GIALLI_TRATT' , 'ROSSI_TRATT' ,'VERDI_TRATT' ]].sum().plot(kind= 'bar')\n",
    "df.groupby('TIPO')[['BIANCHI_OB', 'GIALLI_OB' , 'ROSSI_OB' ,'VERDI_OB' ]].sum().plot(kind= 'bar')\n",
    "df.groupby('TIPO')[['TOT_ATT', 'TOT_OB', 'TOT_RT', 'TOT_TRATT', 'TUTTI' ]].sum().plot(kind= 'bar')\n",
    "\n",
    "plt.show()"
   ]
  },
  {
   "cell_type": "code",
   "execution_count": 33,
   "metadata": {
    "scrolled": true
   },
   "outputs": [
    {
     "data": {
      "image/png": "[encoded data removed]",
      "text/plain": [
       "<Figure size 864x360 with 1 Axes>"
      ]
     },
     "metadata": {},
     "output_type": "display_data"
    }
   ],
   "source": [
    "plt.figure(figsize=(12,5))\n",
    "plt.title('Total number of patients per hour of the days')\n",
    "plt.hist(df.hour, bins = 24, range = (0, 24), rwidth=0.7, color = 'blue', alpha = 0.6)\n",
    "plt.xticks(range(1, 25), '01 02 03 04 05 06 07 08 09 10 11 12 13 14 15 16 17 18 19 20 21 22 23 24'.split())\n",
    "\n",
    "plt.show()"
   ]
  },
  {
   "cell_type": "code",
   "execution_count": 30,
   "metadata": {
    "scrolled": true
   },
   "outputs": [
    {
     "data": {
      "image/png": "[encoded data removed]",
      "text/plain": [
       "<Figure size 864x360 with 1 Axes>"
      ]
     },
     "metadata": {},
     "output_type": "display_data"
    }
   ],
   "source": [
    "plt.figure(figsize=(12,5))\n",
    "plt.hist(df['Weekday'], bins = 7, range = (-0.5, 6.5), rwidth=0.7, alpha = 0.6)\n",
    "plt.title('Number of patients per weekday')\n",
    "plt.xticks(range(7), 'Mon Tue Wed Thu Fri Sat Sun'.split())\n",
    "plt.show()"
   ]
  },
  {
   "cell_type": "code",
   "execution_count": 20,
   "metadata": {},
   "outputs": [
    {
     "data": {
      "text/plain": [
       "Weekday\n",
       "0    20843\n",
       "1    40684\n",
       "2     9835\n",
       "3    15259\n",
       "4    24546\n",
       "5    29846\n",
       "6    19976\n",
       "dtype: int64"
      ]
     },
     "execution_count": 20,
     "metadata": {},
     "output_type": "execute_result"
    }
   ],
   "source": [
    "df.groupby('Weekday').size()"
   ]
  },
  {
   "cell_type": "code",
   "execution_count": 21,
   "metadata": {},
   "outputs": [
    {
     "data": {
      "text/plain": [
       "1    40684\n",
       "5    29846\n",
       "4    24546\n",
       "0    20843\n",
       "6    19976\n",
       "3    15259\n",
       "2     9835\n",
       "Name: Weekday, dtype: int64"
      ]
     },
     "execution_count": 21,
     "metadata": {},
     "output_type": "execute_result"
    }
   ],
   "source": [
    "df['Weekday'].value_counts() "
   ]
  },
  {
   "cell_type": "code",
   "execution_count": 31,
   "metadata": {},
   "outputs": [
    {
     "data": {
      "image/png": "[encoded data removed]",
      "text/plain": [
       "<Figure size 864x360 with 1 Axes>"
      ]
     },
     "metadata": {},
     "output_type": "display_data"
    }
   ],
   "source": [
    "plt.figure(figsize=(12,5))\n",
    "plt.title('Number of patients per weekday')\n",
    "sns.distplot(df['Weekday'])\n",
    "plt.xticks(range(7), 'Mon Tue Wed Thu Fri Sat Sun'.split())\n",
    "plt.show()"
   ]
  },
  {
   "cell_type": "code",
   "execution_count": 23,
   "metadata": {
    "scrolled": false
   },
   "outputs": [
    {
     "data": {
      "text/html": [
       "<div>\n",
       "<style scoped>\n",
       "    .dataframe tbody tr th:only-of-type {\n",
       "        vertical-align: middle;\n",
       "    }\n",
       "\n",
       "    .dataframe tbody tr th {\n",
       "        vertical-align: top;\n",
       "    }\n",
       "\n",
       "    .dataframe thead th {\n",
       "        text-align: right;\n",
       "    }\n",
       "</style>\n",
       "<table border=\"1\" class=\"dataframe\">\n",
       "  <thead>\n",
       "    <tr style=\"text-align: right;\">\n",
       "      <th>hour</th>\n",
       "      <th>0</th>\n",
       "      <th>1</th>\n",
       "      <th>2</th>\n",
       "      <th>3</th>\n",
       "      <th>4</th>\n",
       "      <th>5</th>\n",
       "      <th>6</th>\n",
       "      <th>7</th>\n",
       "      <th>8</th>\n",
       "      <th>9</th>\n",
       "      <th>...</th>\n",
       "      <th>14</th>\n",
       "      <th>15</th>\n",
       "      <th>16</th>\n",
       "      <th>17</th>\n",
       "      <th>18</th>\n",
       "      <th>19</th>\n",
       "      <th>20</th>\n",
       "      <th>21</th>\n",
       "      <th>22</th>\n",
       "      <th>23</th>\n",
       "    </tr>\n",
       "  </thead>\n",
       "  <tbody>\n",
       "    <tr>\n",
       "      <th>Mon</th>\n",
       "      <td>890</td>\n",
       "      <td>890</td>\n",
       "      <td>889</td>\n",
       "      <td>890</td>\n",
       "      <td>890</td>\n",
       "      <td>890</td>\n",
       "      <td>890</td>\n",
       "      <td>890</td>\n",
       "      <td>890</td>\n",
       "      <td>890</td>\n",
       "      <td>...</td>\n",
       "      <td>890</td>\n",
       "      <td>890</td>\n",
       "      <td>890</td>\n",
       "      <td>890</td>\n",
       "      <td>890</td>\n",
       "      <td>899</td>\n",
       "      <td>900</td>\n",
       "      <td>845</td>\n",
       "      <td>542</td>\n",
       "      <td>806</td>\n",
       "    </tr>\n",
       "    <tr>\n",
       "      <th>Tue</th>\n",
       "      <td>1798</td>\n",
       "      <td>1800</td>\n",
       "      <td>1428</td>\n",
       "      <td>1710</td>\n",
       "      <td>1800</td>\n",
       "      <td>1457</td>\n",
       "      <td>1800</td>\n",
       "      <td>1755</td>\n",
       "      <td>1856</td>\n",
       "      <td>2026</td>\n",
       "      <td>...</td>\n",
       "      <td>1746</td>\n",
       "      <td>1349</td>\n",
       "      <td>1590</td>\n",
       "      <td>1440</td>\n",
       "      <td>1787</td>\n",
       "      <td>1800</td>\n",
       "      <td>1528</td>\n",
       "      <td>1705</td>\n",
       "      <td>1478</td>\n",
       "      <td>1788</td>\n",
       "    </tr>\n",
       "    <tr>\n",
       "      <th>Wed</th>\n",
       "      <td>440</td>\n",
       "      <td>440</td>\n",
       "      <td>440</td>\n",
       "      <td>440</td>\n",
       "      <td>440</td>\n",
       "      <td>440</td>\n",
       "      <td>440</td>\n",
       "      <td>440</td>\n",
       "      <td>440</td>\n",
       "      <td>428</td>\n",
       "      <td>...</td>\n",
       "      <td>435</td>\n",
       "      <td>440</td>\n",
       "      <td>440</td>\n",
       "      <td>440</td>\n",
       "      <td>440</td>\n",
       "      <td>440</td>\n",
       "      <td>441</td>\n",
       "      <td>395</td>\n",
       "      <td>352</td>\n",
       "      <td>396</td>\n",
       "    </tr>\n",
       "    <tr>\n",
       "      <th>Thu</th>\n",
       "      <td>900</td>\n",
       "      <td>900</td>\n",
       "      <td>901</td>\n",
       "      <td>540</td>\n",
       "      <td>900</td>\n",
       "      <td>899</td>\n",
       "      <td>890</td>\n",
       "      <td>890</td>\n",
       "      <td>890</td>\n",
       "      <td>890</td>\n",
       "      <td>...</td>\n",
       "      <td>440</td>\n",
       "      <td>440</td>\n",
       "      <td>440</td>\n",
       "      <td>442</td>\n",
       "      <td>450</td>\n",
       "      <td>307</td>\n",
       "      <td>445</td>\n",
       "      <td>450</td>\n",
       "      <td>390</td>\n",
       "      <td>373</td>\n",
       "    </tr>\n",
       "    <tr>\n",
       "      <th>Fri</th>\n",
       "      <td>889</td>\n",
       "      <td>890</td>\n",
       "      <td>889</td>\n",
       "      <td>890</td>\n",
       "      <td>890</td>\n",
       "      <td>890</td>\n",
       "      <td>856</td>\n",
       "      <td>890</td>\n",
       "      <td>890</td>\n",
       "      <td>530</td>\n",
       "      <td>...</td>\n",
       "      <td>1332</td>\n",
       "      <td>1327</td>\n",
       "      <td>1337</td>\n",
       "      <td>1309</td>\n",
       "      <td>1320</td>\n",
       "      <td>1305</td>\n",
       "      <td>1320</td>\n",
       "      <td>1053</td>\n",
       "      <td>978</td>\n",
       "      <td>820</td>\n",
       "    </tr>\n",
       "    <tr>\n",
       "      <th>Sat</th>\n",
       "      <td>1325</td>\n",
       "      <td>1350</td>\n",
       "      <td>1080</td>\n",
       "      <td>1035</td>\n",
       "      <td>1350</td>\n",
       "      <td>1350</td>\n",
       "      <td>1080</td>\n",
       "      <td>1350</td>\n",
       "      <td>1170</td>\n",
       "      <td>1350</td>\n",
       "      <td>...</td>\n",
       "      <td>1350</td>\n",
       "      <td>990</td>\n",
       "      <td>1350</td>\n",
       "      <td>1350</td>\n",
       "      <td>1350</td>\n",
       "      <td>1350</td>\n",
       "      <td>1350</td>\n",
       "      <td>1230</td>\n",
       "      <td>1080</td>\n",
       "      <td>1305</td>\n",
       "    </tr>\n",
       "    <tr>\n",
       "      <th>Sun</th>\n",
       "      <td>884</td>\n",
       "      <td>870</td>\n",
       "      <td>855</td>\n",
       "      <td>861</td>\n",
       "      <td>879</td>\n",
       "      <td>700</td>\n",
       "      <td>880</td>\n",
       "      <td>866</td>\n",
       "      <td>868</td>\n",
       "      <td>880</td>\n",
       "      <td>...</td>\n",
       "      <td>649</td>\n",
       "      <td>867</td>\n",
       "      <td>893</td>\n",
       "      <td>844</td>\n",
       "      <td>890</td>\n",
       "      <td>890</td>\n",
       "      <td>610</td>\n",
       "      <td>773</td>\n",
       "      <td>712</td>\n",
       "      <td>890</td>\n",
       "    </tr>\n",
       "  </tbody>\n",
       "</table>\n",
       "<p>7 rows × 24 columns</p>\n",
       "</div>"
      ],
      "text/plain": [
       "hour    0     1     2     3     4     5     6     7     8     9   ...     14  \\\n",
       "Mon    890   890   889   890   890   890   890   890   890   890  ...    890   \n",
       "Tue   1798  1800  1428  1710  1800  1457  1800  1755  1856  2026  ...   1746   \n",
       "Wed    440   440   440   440   440   440   440   440   440   428  ...    435   \n",
       "Thu    900   900   901   540   900   899   890   890   890   890  ...    440   \n",
       "Fri    889   890   889   890   890   890   856   890   890   530  ...   1332   \n",
       "Sat   1325  1350  1080  1035  1350  1350  1080  1350  1170  1350  ...   1350   \n",
       "Sun    884   870   855   861   879   700   880   866   868   880  ...    649   \n",
       "\n",
       "hour    15    16    17    18    19    20    21    22    23  \n",
       "Mon    890   890   890   890   899   900   845   542   806  \n",
       "Tue   1349  1590  1440  1787  1800  1528  1705  1478  1788  \n",
       "Wed    440   440   440   440   440   441   395   352   396  \n",
       "Thu    440   440   442   450   307   445   450   390   373  \n",
       "Fri   1327  1337  1309  1320  1305  1320  1053   978   820  \n",
       "Sat    990  1350  1350  1350  1350  1350  1230  1080  1305  \n",
       "Sun    867   893   844   890   890   610   773   712   890  \n",
       "\n",
       "[7 rows x 24 columns]"
      ]
     },
     "execution_count": 23,
     "metadata": {},
     "output_type": "execute_result"
    }
   ],
   "source": [
    "by_cross = df.groupby('Weekday hour'.split()).apply(count_rows).unstack()\n",
    "by_cross.index = ['Mon Tue Wed Thu Fri Sat Sun'.split()]\n",
    "by_cross"
   ]
  },
  {
   "cell_type": "code",
   "execution_count": 24,
   "metadata": {
    "scrolled": true
   },
   "outputs": [],
   "source": [
    "by_cross.fillna(0, inplace=True)"
   ]
  },
  {
   "cell_type": "code",
   "execution_count": 25,
   "metadata": {},
   "outputs": [
    {
     "data": {
      "text/html": [
       "<div>\n",
       "<style scoped>\n",
       "    .dataframe tbody tr th:only-of-type {\n",
       "        vertical-align: middle;\n",
       "    }\n",
       "\n",
       "    .dataframe tbody tr th {\n",
       "        vertical-align: top;\n",
       "    }\n",
       "\n",
       "    .dataframe thead th {\n",
       "        text-align: right;\n",
       "    }\n",
       "</style>\n",
       "<table border=\"1\" class=\"dataframe\">\n",
       "  <thead>\n",
       "    <tr style=\"text-align: right;\">\n",
       "      <th>hour</th>\n",
       "      <th>0</th>\n",
       "      <th>1</th>\n",
       "      <th>2</th>\n",
       "      <th>3</th>\n",
       "      <th>4</th>\n",
       "      <th>5</th>\n",
       "      <th>6</th>\n",
       "      <th>7</th>\n",
       "      <th>8</th>\n",
       "      <th>9</th>\n",
       "      <th>...</th>\n",
       "      <th>14</th>\n",
       "      <th>15</th>\n",
       "      <th>16</th>\n",
       "      <th>17</th>\n",
       "      <th>18</th>\n",
       "      <th>19</th>\n",
       "      <th>20</th>\n",
       "      <th>21</th>\n",
       "      <th>22</th>\n",
       "      <th>23</th>\n",
       "    </tr>\n",
       "  </thead>\n",
       "  <tbody>\n",
       "    <tr>\n",
       "      <th>Mon</th>\n",
       "      <td>890</td>\n",
       "      <td>890</td>\n",
       "      <td>889</td>\n",
       "      <td>890</td>\n",
       "      <td>890</td>\n",
       "      <td>890</td>\n",
       "      <td>890</td>\n",
       "      <td>890</td>\n",
       "      <td>890</td>\n",
       "      <td>890</td>\n",
       "      <td>...</td>\n",
       "      <td>890</td>\n",
       "      <td>890</td>\n",
       "      <td>890</td>\n",
       "      <td>890</td>\n",
       "      <td>890</td>\n",
       "      <td>899</td>\n",
       "      <td>900</td>\n",
       "      <td>845</td>\n",
       "      <td>542</td>\n",
       "      <td>806</td>\n",
       "    </tr>\n",
       "    <tr>\n",
       "      <th>Tue</th>\n",
       "      <td>1798</td>\n",
       "      <td>1800</td>\n",
       "      <td>1428</td>\n",
       "      <td>1710</td>\n",
       "      <td>1800</td>\n",
       "      <td>1457</td>\n",
       "      <td>1800</td>\n",
       "      <td>1755</td>\n",
       "      <td>1856</td>\n",
       "      <td>2026</td>\n",
       "      <td>...</td>\n",
       "      <td>1746</td>\n",
       "      <td>1349</td>\n",
       "      <td>1590</td>\n",
       "      <td>1440</td>\n",
       "      <td>1787</td>\n",
       "      <td>1800</td>\n",
       "      <td>1528</td>\n",
       "      <td>1705</td>\n",
       "      <td>1478</td>\n",
       "      <td>1788</td>\n",
       "    </tr>\n",
       "    <tr>\n",
       "      <th>Wed</th>\n",
       "      <td>440</td>\n",
       "      <td>440</td>\n",
       "      <td>440</td>\n",
       "      <td>440</td>\n",
       "      <td>440</td>\n",
       "      <td>440</td>\n",
       "      <td>440</td>\n",
       "      <td>440</td>\n",
       "      <td>440</td>\n",
       "      <td>428</td>\n",
       "      <td>...</td>\n",
       "      <td>435</td>\n",
       "      <td>440</td>\n",
       "      <td>440</td>\n",
       "      <td>440</td>\n",
       "      <td>440</td>\n",
       "      <td>440</td>\n",
       "      <td>441</td>\n",
       "      <td>395</td>\n",
       "      <td>352</td>\n",
       "      <td>396</td>\n",
       "    </tr>\n",
       "    <tr>\n",
       "      <th>Thu</th>\n",
       "      <td>900</td>\n",
       "      <td>900</td>\n",
       "      <td>901</td>\n",
       "      <td>540</td>\n",
       "      <td>900</td>\n",
       "      <td>899</td>\n",
       "      <td>890</td>\n",
       "      <td>890</td>\n",
       "      <td>890</td>\n",
       "      <td>890</td>\n",
       "      <td>...</td>\n",
       "      <td>440</td>\n",
       "      <td>440</td>\n",
       "      <td>440</td>\n",
       "      <td>442</td>\n",
       "      <td>450</td>\n",
       "      <td>307</td>\n",
       "      <td>445</td>\n",
       "      <td>450</td>\n",
       "      <td>390</td>\n",
       "      <td>373</td>\n",
       "    </tr>\n",
       "    <tr>\n",
       "      <th>Fri</th>\n",
       "      <td>889</td>\n",
       "      <td>890</td>\n",
       "      <td>889</td>\n",
       "      <td>890</td>\n",
       "      <td>890</td>\n",
       "      <td>890</td>\n",
       "      <td>856</td>\n",
       "      <td>890</td>\n",
       "      <td>890</td>\n",
       "      <td>530</td>\n",
       "      <td>...</td>\n",
       "      <td>1332</td>\n",
       "      <td>1327</td>\n",
       "      <td>1337</td>\n",
       "      <td>1309</td>\n",
       "      <td>1320</td>\n",
       "      <td>1305</td>\n",
       "      <td>1320</td>\n",
       "      <td>1053</td>\n",
       "      <td>978</td>\n",
       "      <td>820</td>\n",
       "    </tr>\n",
       "    <tr>\n",
       "      <th>Sat</th>\n",
       "      <td>1325</td>\n",
       "      <td>1350</td>\n",
       "      <td>1080</td>\n",
       "      <td>1035</td>\n",
       "      <td>1350</td>\n",
       "      <td>1350</td>\n",
       "      <td>1080</td>\n",
       "      <td>1350</td>\n",
       "      <td>1170</td>\n",
       "      <td>1350</td>\n",
       "      <td>...</td>\n",
       "      <td>1350</td>\n",
       "      <td>990</td>\n",
       "      <td>1350</td>\n",
       "      <td>1350</td>\n",
       "      <td>1350</td>\n",
       "      <td>1350</td>\n",
       "      <td>1350</td>\n",
       "      <td>1230</td>\n",
       "      <td>1080</td>\n",
       "      <td>1305</td>\n",
       "    </tr>\n",
       "    <tr>\n",
       "      <th>Sun</th>\n",
       "      <td>884</td>\n",
       "      <td>870</td>\n",
       "      <td>855</td>\n",
       "      <td>861</td>\n",
       "      <td>879</td>\n",
       "      <td>700</td>\n",
       "      <td>880</td>\n",
       "      <td>866</td>\n",
       "      <td>868</td>\n",
       "      <td>880</td>\n",
       "      <td>...</td>\n",
       "      <td>649</td>\n",
       "      <td>867</td>\n",
       "      <td>893</td>\n",
       "      <td>844</td>\n",
       "      <td>890</td>\n",
       "      <td>890</td>\n",
       "      <td>610</td>\n",
       "      <td>773</td>\n",
       "      <td>712</td>\n",
       "      <td>890</td>\n",
       "    </tr>\n",
       "  </tbody>\n",
       "</table>\n",
       "<p>7 rows × 24 columns</p>\n",
       "</div>"
      ],
      "text/plain": [
       "hour    0     1     2     3     4     5     6     7     8     9   ...     14  \\\n",
       "Mon    890   890   889   890   890   890   890   890   890   890  ...    890   \n",
       "Tue   1798  1800  1428  1710  1800  1457  1800  1755  1856  2026  ...   1746   \n",
       "Wed    440   440   440   440   440   440   440   440   440   428  ...    435   \n",
       "Thu    900   900   901   540   900   899   890   890   890   890  ...    440   \n",
       "Fri    889   890   889   890   890   890   856   890   890   530  ...   1332   \n",
       "Sat   1325  1350  1080  1035  1350  1350  1080  1350  1170  1350  ...   1350   \n",
       "Sun    884   870   855   861   879   700   880   866   868   880  ...    649   \n",
       "\n",
       "hour    15    16    17    18    19    20    21    22    23  \n",
       "Mon    890   890   890   890   899   900   845   542   806  \n",
       "Tue   1349  1590  1440  1787  1800  1528  1705  1478  1788  \n",
       "Wed    440   440   440   440   440   441   395   352   396  \n",
       "Thu    440   440   442   450   307   445   450   390   373  \n",
       "Fri   1327  1337  1309  1320  1305  1320  1053   978   820  \n",
       "Sat    990  1350  1350  1350  1350  1350  1230  1080  1305  \n",
       "Sun    867   893   844   890   890   610   773   712   890  \n",
       "\n",
       "[7 rows x 24 columns]"
      ]
     },
     "execution_count": 25,
     "metadata": {},
     "output_type": "execute_result"
    }
   ],
   "source": [
    "by_cross"
   ]
  },
  {
   "cell_type": "code",
   "execution_count": 32,
   "metadata": {},
   "outputs": [
    {
     "data": {
      "image/png": "[encoded data removed]",
      "text/plain": [
       "<Figure size 936x504 with 2 Axes>"
      ]
     },
     "metadata": {},
     "output_type": "display_data"
    }
   ],
   "source": [
    "import seaborn as sb\n",
    "plt.figure(figsize=(13,7))\n",
    "plt.title('Hour & Weekday heatmap')\n",
    "sb.heatmap(by_cross)\n",
    "plt.yticks(range(7), 'Mon Tue Wed Thu Fri Sat Sun'.split())\n",
    "plt.show()"
   ]
  },
  {
   "cell_type": "code",
   "execution_count": null,
   "metadata": {},
   "outputs": [],
   "source": []
  }
 ],
 "metadata": {
  "kernelspec": {
   "display_name": "Python 3",
   "language": "python",
   "name": "python3"
  },
  "language_info": {
   "codemirror_mode": {
    "name": "ipython",
    "version": 3
   },
   "file_extension": ".py",
   "mimetype": "text/x-python",
   "name": "python",
   "nbconvert_exporter": "python",
   "pygments_lexer": "ipython3",
   "version": "3.6.5"
  }
 },
 "nbformat": 4,
 "nbformat_minor": 2
}
